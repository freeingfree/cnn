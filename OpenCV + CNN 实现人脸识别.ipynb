{
 "cells": [
  {
   "cell_type": "markdown",
   "metadata": {},
   "source": [
    "# 生成检测器"
   ]
  },
  {
   "cell_type": "code",
   "execution_count": 2,
   "metadata": {
    "collapsed": true
   },
   "outputs": [],
   "source": [
    "import cv2 as cv\n",
    "import matplotlib.pyplot as plt\n",
    "import numpy as np\n",
    "import os\n",
    "%matplotlib inline"
   ]
  },
  {
   "cell_type": "code",
   "execution_count": 3,
   "metadata": {
    "collapsed": true
   },
   "outputs": [],
   "source": [
    "detector = cv.CascadeClassifier(\"D:/ProgramData/Anaconda3/Lib/site-packages/cv2/data/haarcascade_frontalface_alt2.xml\")"
   ]
  },
  {
   "cell_type": "markdown",
   "metadata": {},
   "source": [
    "# 使用opencv处理人脸图片"
   ]
  },
  {
   "cell_type": "code",
   "execution_count": 70,
   "metadata": {
    "collapsed": true
   },
   "outputs": [],
   "source": [
    "rawimgpath = \"C:/Users/lenovo/Documents/tfstudy/pic/me/\"\n",
    "rawimgpath2 = \"C:/Users/lenovo/Documents/tfstudy/pic/notme/\"\n",
    "imgpath = \"C:/Users/lenovo/Documents/tfstudy/pic/face_me/\"\n",
    "imgpath2 = \"C:/Users/lenovo/Documents/tfstudy/pic/face_not_me/\"\n",
    "\n",
    "height = 100\n",
    "width = 100"
   ]
  },
  {
   "cell_type": "code",
   "execution_count": 78,
   "metadata": {
    "collapsed": true
   },
   "outputs": [],
   "source": [
    "#将image统一补全并缩放成相同的大小\n",
    "def resize_with_pad(image, height, width):\n",
    " \n",
    "    #计算后续填充图片时的上、下、左、右的像素点\n",
    "    def get_padding_size(image):\n",
    "        h, w = image.shape\n",
    "        longest_edge = max(h, w)\n",
    "        top, bottom, left, right = (0, 0, 0, 0)\n",
    "        if h < longest_edge:\n",
    "            dh = longest_edge - h\n",
    "            top = dh // 2\n",
    "            bottom = dh - top\n",
    "        elif w < longest_edge:\n",
    "            dw = longest_edge - w\n",
    "            left = dw // 2\n",
    "            right = dw - left\n",
    "        else:\n",
    "            pass\n",
    "        return top, bottom, left, right\n",
    " \n",
    "    top, bottom, left, right = get_padding_size(image)\n",
    "    BLACK = [0, 0, 0]\n",
    "    #填充图片\n",
    "    constant = cv.copyMakeBorder(image, top , bottom, left, right, cv.BORDER_CONSTANT, value=BLACK)\n",
    "    #缩放图片以统一输入\n",
    "    resized_image = cv.resize(constant, (height, width))\n",
    "    return resized_image"
   ]
  },
  {
   "cell_type": "code",
   "execution_count": 76,
   "metadata": {
    "collapsed": true
   },
   "outputs": [],
   "source": [
    "#读取图片并储存\n",
    "def generate_faces_img(rawimgpath,num, imgpath):\n",
    "    path = rawimgpath + str(num) + \".jpg\"\n",
    "    img = cv.imread(path)\n",
    "    gray = cv.cvtColor(img, cv.COLOR_BGR2GRAY)\n",
    "    gray = cv.equalizeHist(gray) #直方图均衡化\n",
    "    faces = detector.detectMultiScale(gray, 1.1, 9)\n",
    "    for (x, y, w, h) in faces:\n",
    "        savepath = imgpath + str(num) + \".jpg\"\n",
    "        face_gray = gray[y:y+h,x:x+w]\n",
    "        face_resize = resize_with_pad(face_gray, height, width)\n",
    "        cv.imwrite(savepath, face_resize)"
   ]
  },
  {
   "cell_type": "code",
   "execution_count": 80,
   "metadata": {
    "collapsed": true
   },
   "outputs": [],
   "source": [
    "picindex = 1\n",
    "picnum = 113\n",
    "\n",
    "while True:\n",
    "    generate_faces_img(rawimgpath, picindex, imgpath)\n",
    "    picindex += 1\n",
    "    if picindex > picnum:\n",
    "        break\n",
    "    "
   ]
  },
  {
   "cell_type": "code",
   "execution_count": 81,
   "metadata": {
    "collapsed": true
   },
   "outputs": [],
   "source": [
    "picindex = 1\n",
    "picnum = 191\n",
    "\n",
    "while True:\n",
    "    generate_faces_img(rawimgpath2, picindex, imgpath2)\n",
    "    picindex += 1\n",
    "    if picindex > picnum:\n",
    "        break\n",
    "  "
   ]
  },
  {
   "cell_type": "markdown",
   "metadata": {},
   "source": [
    "# CNN实现人脸解锁"
   ]
  },
  {
   "cell_type": "code",
   "execution_count": 4,
   "metadata": {
    "collapsed": true
   },
   "outputs": [],
   "source": [
    "import tf_record_utils as util\n",
    "import os\n",
    "import numpy as np\n",
    "import pandas as pd\n",
    "import tensorflow as tf\n",
    "import sklearn\n",
    "from sklearn.model_selection import train_test_split"
   ]
  },
  {
   "cell_type": "code",
   "execution_count": 5,
   "metadata": {
    "scrolled": true
   },
   "outputs": [
    {
     "data": {
      "text/plain": [
       "(214, 100, 100, 1)"
      ]
     },
     "execution_count": 5,
     "metadata": {},
     "output_type": "execute_result"
    }
   ],
   "source": [
    "#打开图片数据\n",
    "filedir = \"C:\\\\Users\\\\lenovo\\\\Documents\\\\tfstudy\\\\pic\"\n",
    "categorys = [\"face_me\",\"face_not_me\"]\n",
    "imagearrays,imagelabels,_ = util.grey_image_arrays(categorys, filedir)\n",
    "imagearrays.shape"
   ]
  },
  {
   "cell_type": "code",
   "execution_count": 6,
   "metadata": {},
   "outputs": [
    {
     "data": {
      "text/plain": [
       "<matplotlib.image.AxesImage at 0x19ac7780>"
      ]
     },
     "execution_count": 6,
     "metadata": {},
     "output_type": "execute_result"
    },
    {
     "data": {
      "image/png": "[encoded data removed]",
      "text/plain": [
       "<Figure size 432x288 with 1 Axes>"
      ]
     },
     "metadata": {},
     "output_type": "display_data"
    }
   ],
   "source": [
    "#查看其中一张图片\n",
    "plt.imshow(np.reshape(imagearrays[120],(100,100)), cmap ='gray')"
   ]
  },
  {
   "cell_type": "code",
   "execution_count": 7,
   "metadata": {},
   "outputs": [
    {
     "data": {
      "text/plain": [
       "2"
      ]
     },
     "execution_count": 7,
     "metadata": {},
     "output_type": "execute_result"
    }
   ],
   "source": [
    "#查看对应类型\n",
    "imagelabels[120]"
   ]
  },
  {
   "cell_type": "code",
   "execution_count": 8,
   "metadata": {},
   "outputs": [
    {
     "data": {
      "text/html": [
       "<div>\n",
       "<style>\n",
       "    .dataframe thead tr:only-child th {\n",
       "        text-align: right;\n",
       "    }\n",
       "\n",
       "    .dataframe thead th {\n",
       "        text-align: left;\n",
       "    }\n",
       "\n",
       "    .dataframe tbody tr th {\n",
       "        vertical-align: top;\n",
       "    }\n",
       "</style>\n",
       "<table border=\"1\" class=\"dataframe\">\n",
       "  <thead>\n",
       "    <tr style=\"text-align: right;\">\n",
       "      <th></th>\n",
       "      <th>me</th>\n",
       "      <th>notme</th>\n",
       "    </tr>\n",
       "  </thead>\n",
       "  <tbody>\n",
       "    <tr>\n",
       "      <th>0</th>\n",
       "      <td>1</td>\n",
       "      <td>0</td>\n",
       "    </tr>\n",
       "    <tr>\n",
       "      <th>1</th>\n",
       "      <td>1</td>\n",
       "      <td>0</td>\n",
       "    </tr>\n",
       "    <tr>\n",
       "      <th>2</th>\n",
       "      <td>1</td>\n",
       "      <td>0</td>\n",
       "    </tr>\n",
       "    <tr>\n",
       "      <th>3</th>\n",
       "      <td>1</td>\n",
       "      <td>0</td>\n",
       "    </tr>\n",
       "    <tr>\n",
       "      <th>4</th>\n",
       "      <td>1</td>\n",
       "      <td>0</td>\n",
       "    </tr>\n",
       "  </tbody>\n",
       "</table>\n",
       "</div>"
      ],
      "text/plain": [
       "   me  notme\n",
       "0   1      0\n",
       "1   1      0\n",
       "2   1      0\n",
       "3   1      0\n",
       "4   1      0"
      ]
     },
     "execution_count": 8,
     "metadata": {},
     "output_type": "execute_result"
    }
   ],
   "source": [
    "imagelabels = pd.get_dummies(imagelabels)\n",
    "imagelabels.columns = [\"me\", \"notme\"]\n",
    "imagelabels.head(5)"
   ]
  },
  {
   "cell_type": "code",
   "execution_count": 9,
   "metadata": {
    "collapsed": true
   },
   "outputs": [],
   "source": [
    "#拆分训练集和测试集\n",
    "data,testdata,labels,testlabels = train_test_split(imagearrays, imagelabels,test_size=0.2)"
   ]
  },
  {
   "cell_type": "code",
   "execution_count": 10,
   "metadata": {
    "collapsed": true
   },
   "outputs": [],
   "source": [
    "#设置超参数\n",
    "learning_rate = 0.001\n",
    "epochs = 10000  #一共运行几大轮\n",
    "batch_size = 10 #随机梯度下降，一小轮含多少张图片\n",
    "\n",
    "#神经网络参数\n",
    "n_classess = 2 #只有两类，我和非我\n",
    "drop_out = 0.5\n",
    "weights = {\n",
    "    #卷积层1 ： 7 * 7 数量32个 步长2\n",
    "    \"wc1\" : tf.Variable(tf.truncated_normal([7, 7, 1, 32], dtype=tf.float32)),\n",
    "    #卷积层2 ： 5 * 5 数量64个 步长1\n",
    "    \"wc2\" : tf.Variable(tf.truncated_normal([5, 5, 32, 64], dtype=tf.float32)),\n",
    "    #卷积层3： 3 * 3 数量128个 步长1\n",
    "    \"wc3\" : tf.Variable(tf.truncated_normal([3, 3, 64, 128], dtype=tf.float32)),\n",
    "    #全连接层1： 含1024个隐藏神经元\n",
    "    \"wd1\" : tf.Variable(tf.truncated_normal([7 * 7 * 128, 1024], dtype=tf.float32)),\n",
    "    #全连接层2:  含1024个隐藏神经元\n",
    "    \"wd2\" : tf.Variable(tf.truncated_normal([1024, 1024], dtype=tf.float32)),\n",
    "    #softmax全连接层： 含两个out神经元\n",
    "    \"out\" : tf.Variable(tf.truncated_normal([1024, n_classess], dtype=tf.float32))\n",
    "}\n",
    "\n",
    "biases = {\n",
    "    \"bc1\" : tf.Variable(tf.zeros([32], dtype=tf.float32)),\n",
    "    \"bc2\" : tf.Variable(tf.zeros([64], dtype=tf.float32)),\n",
    "    \"bc3\" : tf.Variable(tf.zeros([128], dtype=tf.float32)),\n",
    "    \"bd1\" : tf.Variable(tf.zeros([1024], dtype=tf.float32)),\n",
    "    \"bd2\" : tf.Variable(tf.zeros([1024], dtype=tf.float32)),\n",
    "    \"out\" : tf.Variable(tf.zeros([n_classess], dtype=tf.float32))\n",
    "}"
   ]
  },
  {
   "cell_type": "code",
   "execution_count": 11,
   "metadata": {
    "collapsed": true
   },
   "outputs": [],
   "source": [
    "def con2d(x, w , b, strides = 1, mode = \"SAME\"):\n",
    "    x = tf.nn.conv2d(input=x, filter=w, \n",
    "                    strides = [1, strides, strides, 1], padding = mode)\n",
    "    return tf.nn.relu(x)"
   ]
  },
  {
   "cell_type": "code",
   "execution_count": 12,
   "metadata": {
    "collapsed": true
   },
   "outputs": [],
   "source": [
    "def maxpool2d(x, k = 2, mode = \"SAME\"):\n",
    "    x = tf.nn.max_pool(x, strides=[1, k, k, 1],\n",
    "                      ksize = [1, k, k, 1], padding = mode)\n",
    "    return x"
   ]
  },
  {
   "cell_type": "code",
   "execution_count": 13,
   "metadata": {
    "collapsed": true
   },
   "outputs": [],
   "source": [
    "def conv_net(x, weights, biases, dropout = 1):\n",
    "    #卷积层1 100 * 100 to 50 * 50\n",
    "    conv1 = con2d(x, weights[\"wc1\"], biases[\"bc1\"], strides=2)\n",
    "    #池化 50 * 50  to 25 * 25\n",
    "    conv1 = maxpool2d(conv1, k = 2)\n",
    "    \n",
    "    #卷积层2 25 * 25 to 25 * 25\n",
    "    conv2 = con2d(conv1, weights[\"wc2\"], biases[\"bc2\"], strides=1)\n",
    "    #池化 25 * 25 to 13 * 13\n",
    "    conv2 = maxpool2d(conv2, k = 2)\n",
    "    \n",
    "    #卷积层3 13 * 13 to 13 * 13\n",
    "    conv3 = con2d(conv2, weights[\"wc3\"], biases[\"bc3\"], strides=1)\n",
    "    #池化 13 * 13 to 7 * 7\n",
    "    conv5 = maxpool2d(conv3, k = 2)\n",
    "    \n",
    "    #全连接层1 7 * 7* 128 to 1024\n",
    "    fc1 = tf.reshape(conv5, shape = [-1, weights[\"wd1\"].get_shape().as_list()[0]])\n",
    "    fc1 = tf.matmul(fc1, weights[\"wd1\"])\n",
    "    fc1 = tf.add(fc1, biases[\"bd1\"])\n",
    "    fc1 = tf.nn.relu(fc1)\n",
    "    fc1 = tf.nn.dropout(fc1, keep_prob=dropout)\n",
    "    print(fc1)\n",
    "    \n",
    "    #全连接层2 1024 to 1024\n",
    "    fc2 = tf.matmul(fc1, weights[\"wd2\"])\n",
    "    fc2 = tf.add(fc2, biases[\"bd2\"])\n",
    "    fc2 = tf.nn.relu(fc2)\n",
    "    fc2 = tf.nn.dropout(fc1, keep_prob=dropout)\n",
    "    print(fc2)\n",
    "    \n",
    "    #输出层 1024 to 2\n",
    "    out = tf.matmul(fc2, weights[\"out\"])\n",
    "    out = tf.add(out, biases[\"out\"])\n",
    "    return out"
   ]
  },
  {
   "cell_type": "code",
   "execution_count": 14,
   "metadata": {
    "collapsed": true
   },
   "outputs": [],
   "source": [
    "#tf placeholder 输入\n",
    "x = tf.placeholder(tf.float32, [None, 100, 100, 1])\n",
    "y = tf.placeholder(tf.float32, [None, n_classess])\n",
    "\n",
    "keep_prob = tf.placeholder(tf.float32)"
   ]
  },
  {
   "cell_type": "code",
   "execution_count": 15,
   "metadata": {},
   "outputs": [
    {
     "name": "stdout",
     "output_type": "stream",
     "text": [
      "Tensor(\"dropout/mul:0\", shape=(?, 1024), dtype=float32)\n",
      "Tensor(\"dropout_1/mul:0\", shape=(?, 1024), dtype=float32)\n",
      "WARNING:tensorflow:From <ipython-input-15-cdcfd8a0241b>:3: softmax_cross_entropy_with_logits (from tensorflow.python.ops.nn_ops) is deprecated and will be removed in a future version.\n",
      "Instructions for updating:\n",
      "\n",
      "Future major versions of TensorFlow will allow gradients to flow\n",
      "into the labels input on backprop by default.\n",
      "\n",
      "See @{tf.nn.softmax_cross_entropy_with_logits_v2}.\n",
      "\n"
     ]
    }
   ],
   "source": [
    "#损失与梯度下降\n",
    "logits = conv_net(x, weights, biases, keep_prob)\n",
    "cost = tf.reduce_mean(tf.nn.softmax_cross_entropy_with_logits(logits=logits, labels=y))\n",
    "optimizer = tf.train.AdamOptimizer(learning_rate=learning_rate).minimize(cost)\n",
    "\n",
    "#准确率\n",
    "correct_pred = tf.equal(tf.argmax(logits, 1), tf.argmax(y, 1))\n",
    "accuracy = tf.reduce_mean(tf.cast(correct_pred, tf.float32))"
   ]
  },
  {
   "cell_type": "code",
   "execution_count": 16,
   "metadata": {
    "collapsed": true
   },
   "outputs": [],
   "source": [
    "#准备训练数据\n",
    "def next_batch(batchsize, x, y):\n",
    "    n_batches = x.shape[0] // batchsize\n",
    "    x = x[:n_batches * batch_size, :, : , :]\n",
    "    y = y.iloc[:n_batches * batchsize, :]\n",
    "    \n",
    "    for n in range(0, len(y), batchsize):\n",
    "        batch_x = x[n : n + batchsize, :, :, :]\n",
    "        batch_y = y.iloc[n : n + batchsize, :]\n",
    "        yield batch_x, batch_y"
   ]
  },
  {
   "cell_type": "code",
   "execution_count": 18,
   "metadata": {
    "scrolled": true
   },
   "outputs": [
    {
     "name": "stdout",
     "output_type": "stream",
     "text": [
      "训练开始！\n",
      "第 1 轮，准确率为： 0.7176470546161428\n",
      "第 2 轮，准确率为： 0.7705882402027354\n",
      "第 3 轮，准确率为： 0.86470588165171\n",
      "第 4 轮，准确率为： 0.7999999943901511\n",
      "第 5 轮，准确率为： 0.8941176393452812\n",
      "Testing Accuracy: 0.8139534592628479\n",
      "第 6 轮，准确率为： 0.8823529306580039\n",
      "第 7 轮，准确率为： 0.8823529271518483\n",
      "第 8 轮，准确率为： 0.9235293970388525\n",
      "第 9 轮，准确率为： 0.8999999936889199\n",
      "第 10 轮，准确率为： 0.9411764600697685\n",
      "Testing Accuracy: 0.8604651093482971\n",
      "第 11 轮，准确率为： 0.9411764635759241\n",
      "第 12 轮，准确率为： 0.958823519594529\n",
      "第 13 轮，准确率为： 0.9235294040511636\n",
      "第 14 轮，准确率为： 0.9647058739381678\n",
      "第 15 轮，准确率为： 0.9647058774443233\n",
      "Testing Accuracy: 0.9069767594337463\n",
      "第 16 轮，准确率为： 0.9705882282818065\n",
      "第 17 轮，准确率为： 0.9764705826254452\n",
      "第 18 轮，准确率为： 0.9588235231006846\n",
      "第 19 轮，准确率为： 0.9823529369690839\n",
      "第 20 轮，准确率为： 0.9941176456563613\n",
      "Testing Accuracy: 0.8837209343910217\n",
      "第 21 轮，准确率为： 0.9764705826254452\n",
      "第 22 轮，准确率为： 1.0\n",
      "第 23 轮，准确率为： 0.9882352913127226\n",
      "第 24 轮，准确率为： 0.9823529369690839\n",
      "第 25 轮，准确率为： 0.970588231787962\n",
      "Testing Accuracy: 0.9069767594337463\n",
      "第 26 轮，准确率为： 0.9941176456563613\n",
      "第 27 轮，准确率为： 0.9823529369690839\n",
      "第 28 轮，准确率为： 0.9823529369690839\n",
      "第 29 轮，准确率为： 0.9882352913127226\n",
      "第 30 轮，准确率为： 1.0\n",
      "Testing Accuracy: 0.8837209343910217\n",
      "第 31 轮，准确率为： 1.0\n",
      "第 32 轮，准确率为： 1.0\n",
      "第 33 轮，准确率为： 1.0\n",
      "第 34 轮，准确率为： 1.0\n",
      "第 35 轮，准确率为： 1.0\n",
      "Testing Accuracy: 0.8837209343910217\n",
      "第 36 轮，准确率为： 1.0\n",
      "第 37 轮，准确率为： 1.0\n",
      "第 38 轮，准确率为： 0.9882352913127226\n",
      "第 39 轮，准确率为： 1.0\n",
      "第 40 轮，准确率为： 1.0\n",
      "Testing Accuracy: 0.9069767594337463\n",
      "第 41 轮，准确率为： 1.0\n",
      "第 42 轮，准确率为： 1.0\n",
      "第 43 轮，准确率为： 1.0\n",
      "第 44 轮，准确率为： 1.0\n",
      "第 45 轮，准确率为： 1.0\n",
      "Testing Accuracy: 0.9069767594337463\n",
      "第 46 轮，准确率为： 1.0\n",
      "第 47 轮，准确率为： 1.0\n",
      "第 48 轮，准确率为： 1.0\n",
      "第 49 轮，准确率为： 1.0\n",
      "第 50 轮，准确率为： 1.0\n",
      "Testing Accuracy: 0.930232584476471\n",
      "第 51 轮，准确率为： 1.0\n",
      "第 52 轮，准确率为： 1.0\n",
      "第 53 轮，准确率为： 1.0\n",
      "第 54 轮，准确率为： 1.0\n",
      "第 55 轮，准确率为： 1.0\n",
      "Testing Accuracy: 0.9767441749572754\n",
      "训练结束！\n"
     ]
    }
   ],
   "source": [
    "#启动会话，开始训练\n",
    "with tf.Session() as sess:\n",
    "    sess.run(tf.global_variables_initializer())\n",
    "    print(\"训练开始！\")\n",
    "    \n",
    "    for epoch in range(epochs):\n",
    "        epoch += 1\n",
    "        accur = 0\n",
    "        loss = 0\n",
    "        for batch_x, batch_y in next_batch(batch_size, data, labels):\n",
    "            feed = {\n",
    "                x : batch_x,\n",
    "                y : batch_y,\n",
    "                keep_prob : drop_out\n",
    "            }\n",
    "            \n",
    "            feed_valid = {\n",
    "                x : batch_x,\n",
    "                y : batch_y,\n",
    "                keep_prob : 1\n",
    "            }\n",
    "            \n",
    "            sess.run(optimizer, feed_dict=feed)\n",
    "            #vaild_loss = sess.run(loss,feed_dict=feed_valid)\n",
    "            valid_accur = sess.run(accuracy, feed_dict=feed_valid)\n",
    "            accur += valid_accur\n",
    "            #epoch_loss += vaild_loss\n",
    "            \n",
    "        print(\"第\",epoch, \"轮，准确率为：\", accur/(data.shape[0]// batch_size))\n",
    "        if epoch % 5 == 0:\n",
    "            #测试集准确率\n",
    "            test_acc = sess.run(accuracy, feed_dict={\n",
    "                x: testdata,\n",
    "                y: testlabels,\n",
    "                keep_prob :1.})\n",
    "            print('Testing Accuracy: {}'.format(test_acc)) \n",
    "            if test_acc > 0.95:\n",
    "                print(\"训练结束！\")\n",
    "                break"
   ]
  }
 ],
 "metadata": {
  "kernelspec": {
   "display_name": "Python 3",
   "language": "python",
   "name": "python3"
  },
  "language_info": {
   "codemirror_mode": {
    "name": "ipython",
    "version": 3
   },
   "file_extension": ".py",
   "mimetype": "text/x-python",
   "name": "python",
   "nbconvert_exporter": "python",
   "pygments_lexer": "ipython3",
   "version": "3.5.5"
  }
 },
 "nbformat": 4,
 "nbformat_minor": 2
}
